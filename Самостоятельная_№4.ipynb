{
  "nbformat": 4,
  "nbformat_minor": 0,
  "metadata": {
    "colab": {
      "name": "Самостоятельная №4",
      "provenance": []
    },
    "kernelspec": {
      "name": "python3",
      "display_name": "Python 3"
    }
  },
  "cells": [
    {
      "cell_type": "markdown",
      "metadata": {
        "id": "nOAaLjiN1WVx"
      },
      "source": [
        "#Задание"
      ]
    },
    {
      "cell_type": "code",
      "metadata": {
        "id": "35aoov3D2iq6"
      },
      "source": [
        "class Poem: # Создаем класс \"Стихотворения\"\n",
        "  def __init__(self, n, a, s): \n",
        "    self.name = n # Название стихотворения\n",
        "    self.author = a # Автор стихотворения\n",
        "    self.stanza = s #Количество строф или абзацев\n",
        "\n",
        "\n",
        "class Writing_style(Poem): # Создаем класс-наследник \"стиль изложения\"\n",
        "  def __init__(self, n, a, s, st):\n",
        "    super().__init__(n, a, s) # Обращение к родительскому классу \n",
        "    self.style = st # Стиль изложения\n",
        "\n",
        "\n",
        "class Rhyme(Writing_style): # Создаем класс-наследник \"рифма\"\n",
        "  def __init__(self, n, a, s, st, r):\n",
        "    super().__init__(n, a, s, st) # Обращение к родительскому классу \n",
        "    self.rhyme = r #Тип рифмы\n",
        "\n",
        "  def info(self):\n",
        "    return \"{0}, {1}, {2}, {3}, {4}\".format(self.name, self.author, self.stanza, self.style, self.rhyme) #Выдаем информацию\n",
        "\n",
        "\n",
        "class Prose(Writing_style): \n",
        "  def __init__(self, n, a, s, st, p):\n",
        "    super().__init__( n, a, s, st) # Обращение к родительскому классу \n",
        "    self.prose = p #Жанр прозы\n",
        "  \n",
        "  def info(self):\n",
        "    return \"{0}, {1}, {2}, {3}, {4}\".format( self.name, self.author, self.stanza, self.style, self.prose) #Выдаем информацию"
      ],
      "execution_count": null,
      "outputs": []
    },
    {
      "cell_type": "code",
      "metadata": {
        "colab": {
          "base_uri": "https://localhost:8080/"
        },
        "id": "I2oltphw3FPo",
        "outputId": "aeebdccb-99e2-488a-c651-b76fe51f5361"
      },
      "source": [
        "poem1 = Rhyme( 'Весенний дождь', 'Фет', str(3), 'Рифма', 'Ямб')\n",
        "print(poem1.info())\n",
        "\n",
        "poem2 = Prose('Довольный человек', 'И. С. Тургенев', str(4), 'Проза', 'Элегия')\n",
        "print(poem2.info())"
      ],
      "execution_count": null,
      "outputs": [
        {
          "output_type": "stream",
          "text": [
            "Сказка, Фет, 5, Рифма, Ямб\n",
            "Довольный человек, И. С. Тургенев, 4, Проза, Элегия\n"
          ],
          "name": "stdout"
        }
      ]
    }
  ]
}