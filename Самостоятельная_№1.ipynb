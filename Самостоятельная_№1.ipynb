{
  "nbformat": 4,
  "nbformat_minor": 0,
  "metadata": {
    "colab": {
      "name": "Самостоятельная №1",
      "provenance": [],
      "collapsed_sections": []
    },
    "kernelspec": {
      "name": "python3",
      "display_name": "Python 3"
    }
  },
  "cells": [
    {
      "cell_type": "code",
      "metadata": {
        "id": "Ttn3Pr6ToKAh",
        "colab": {
          "base_uri": "https://localhost:8080/"
        },
        "outputId": "292cc70a-c839-4d15-945e-cf3de54e38f6"
      },
      "source": [
        "from fractions import Fraction\n",
        " \n",
        "#Создаем класс для дроби\n",
        "class Fraction:\n",
        "#Создаем конструктор, знаменатель и числитель \n",
        "  def __init__(self, num, den):\n",
        "    self.num = num\n",
        "    self.den = den\n",
        "  \n",
        "    if den != 0:\n",
        "      self.den = den\n",
        "    else:\n",
        "      raise ZeroDivisionError\n",
        "      print(\"Знаменатель не может быть равен нулю!\")\n",
        "    \n",
        " \n",
        "frac1 = Fraction (3, 15)\n",
        "frac2 = Fraction (4, 5)\n",
        "\n",
        "percent = (round(frac1.num/frac1.den * 100/1,2)) #Вычисление процентов\n",
        "print(percent, \"%\")\n",
        "a = frac1.den\n",
        "b = frac2.den\n",
        " \n",
        "#Найти сумму цифр значения знаменателя \n",
        "print(\"Сумма знаменателей:\", a + b)\n",
        " \n",
        "del frac1\n",
        "del frac2\n",
        "print(\"The object is destroyed\")"
      ],
      "execution_count": 57,
      "outputs": [
        {
          "output_type": "stream",
          "text": [
            "20.0 %\n",
            "Сумма знаменателей: 20\n",
            "The object is destroyed\n"
          ],
          "name": "stdout"
        }
      ]
    },
    {
      "cell_type": "code",
      "metadata": {
        "id": "ND0-V5uXMc8U"
      },
      "source": [
        ""
      ],
      "execution_count": null,
      "outputs": []
    }
  ]
}