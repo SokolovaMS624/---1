{
  "nbformat": 4,
  "nbformat_minor": 0,
  "metadata": {
    "colab": {
      "name": "Практическая работа №1",
      "provenance": []
    },
    "kernelspec": {
      "name": "python3",
      "display_name": "Python 3"
    }
  },
  "cells": [
    {
      "cell_type": "markdown",
      "metadata": {
        "id": "HlURH4Cuo7_g"
      },
      "source": [
        "# Задание №1\n"
      ]
    },
    {
      "cell_type": "code",
      "metadata": {
        "id": "0CJgCbGvo7b4"
      },
      "source": [
        "class Human:\n",
        "  def __init__(self, name, age, iq):\n",
        "    self.name = name\n",
        "    self.age = age\n",
        "    if self.age < 0:\n",
        "      print ('Oops, necromancer defecred')\n",
        "    self.iq =iq\n",
        "Human1=Human('Kara', 23, 89) #Создали экземпляр класса\n",
        "print(Human1.name, Human1.age, Human1.iq)\n",
        "Human2=Human('Olya', 2, 10)\n",
        "print(Human2.name, Human2.age, Human2.iq)"
      ],
      "execution_count": null,
      "outputs": []
    },
    {
      "cell_type": "code",
      "metadata": {
        "id": "AvjpmOyhho4A"
      },
      "source": [
        "class Point:\n",
        "    amount = 0\n",
        "    def __init__(self, *args):\n",
        "        if len(args) == 2:\n",
        "            self.x = args[0]\n",
        "            self.y = args[1]\n",
        "        else:\n",
        "            self.x = self.y = 0\n",
        "        Point.amount += 1\n",
        "\n",
        "    def __del__(self):\n",
        "        Point.amount -= 1\n",
        "    def distance(self):\n",
        "        return (self.x ** 2 + self.y ** 2) ** 0.5\n",
        "    def __str__(self):\n",
        "        return '({}; {})'.format(self.x, self.y)\n",
        "\n",
        "p = Point(36, 42)\n",
        "print (p)"
      ],
      "execution_count": null,
      "outputs": []
    },
    {
      "cell_type": "code",
      "metadata": {
        "id": "E2ihhMqV5Yp0",
        "colab": {
          "base_uri": "https://localhost:8080/",
          "height": 115
        },
        "outputId": "2157704d-dfe5-416e-9f59-8457c6fe7396"
      },
      "source": [
        "from math import sqrt, pi\n",
        "class Circle:\n",
        "  def __init__(self, x, y, radius):\n",
        "    self.centre = Point(x, y)\n",
        "    self.radius = radius\n",
        "  \n",
        "  def length(self):\n",
        "    return 2 * pi * self.radius\n",
        "\n",
        "  def square(self):\n",
        "    return pi * self.radius ** 2\n",
        "\n",
        "  def move(self, x, y):\n",
        "    self.centre.x = x\n",
        "    self.centre.y = y\n",
        "    return(x, y)\n",
        "\n",
        "  def distance(self):\n",
        "    return sqrt(self.centre.x ** 2 + self.centre.y ** 2)  # поставить исключение(например дел на 0)\n",
        "\n",
        "  def move(self, x, y):\n",
        "    self.centre.x = x\n",
        "    self.centre.y = y\n",
        "    return(x, y)\n",
        "      \n",
        "  def __str__(self):\n",
        "    return \"Circle: centre: {}, radius: {}\".format(self.centre, self.radius)  # создать объект класса, вывести все методы\n",
        "        \n",
        "  def primer(self, x, y):\n",
        "    try:\n",
        "      return x / y\n",
        "    except ZeroDivisionError:\n",
        "      return ('На ноль делить нельзя!')\n",
        "\n",
        "Circle1 = Circle(3, 6, 98)\n",
        "print(str(Circle1.length()))\n",
        "print(str(Circle1.square()))\n",
        "print(str(Circle1.move(7, 976)))\n",
        "print(str(Circle1.distance()))\n",
        "print(str(Circle1))\n",
        "print(Circle1.primer(5, 0))"
      ],
      "execution_count": null,
      "outputs": [
        {
          "output_type": "stream",
          "text": [
            "615.7521601035994\n",
            "30171.855845076374\n",
            "(7, 976)\n",
            "976.0251021362104\n",
            "Circle: centre: (7; 976), radius: 98\n",
            "На ноль делить нельзя!\n"
          ],
          "name": "stdout"
        }
      ]
    }
  ]
}