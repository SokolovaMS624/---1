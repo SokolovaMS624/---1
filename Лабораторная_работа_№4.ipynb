{
  "nbformat": 4,
  "nbformat_minor": 0,
  "metadata": {
    "colab": {
      "name": "Лабораторная работа №4",
      "provenance": [],
      "collapsed_sections": []
    },
    "kernelspec": {
      "name": "python3",
      "display_name": "Python 3"
    }
  },
  "cells": [
    {
      "cell_type": "markdown",
      "metadata": {
        "id": "ujVXBXaVyeyh"
      },
      "source": [
        "# Задание №1"
      ]
    },
    {
      "cell_type": "code",
      "metadata": {
        "id": "g5eIW7FhyfBH"
      },
      "source": [
        "x = int(input('Введите число '))\n",
        "\n",
        "if x >= 0:\n",
        "    f= x**(1/2) + x**2\n",
        "else:\n",
        "    f = 1 / x\n",
        "\n",
        "print(round(f, 2))\n",
        "\n",
        "# --------------\n",
        "# Пример вывода:\n",
        "#\n",
        "# Введите число x: -10\n",
        "# f = -0.10\n",
        "\n",
        "# Введите число x: 0\n",
        "# f = 0.00\n",
        "\n",
        "# Введите число x: 10\n",
        "#f = 103.16\n"
      ],
      "execution_count": null,
      "outputs": []
    },
    {
      "cell_type": "markdown",
      "metadata": {
        "id": "nJPWZ8Oav1kg"
      },
      "source": [
        "# Задание №2"
      ]
    },
    {
      "cell_type": "code",
      "metadata": {
        "id": "CRbcAL0hv6lv"
      },
      "source": [
        "a1 = int(input('Введите число '))\n",
        "a2 = int(input('Введите число '))\n",
        "\n",
        "if a1<a2:\n",
        "  print('Максимум: ' + str(a2), 'минимум:' + str(a1))\n",
        "else:\n",
        "  print('Максимум: ' + str(a1), 'минимум:' + str(a2))\n",
        "\n",
        "# Введите первое число: 1\n",
        "# Введите второе число: 2\n",
        "# Максимум: 2, минимум: 1\n",
        "\n",
        "# Введите первое число: 5\n",
        "# Введите второе число: 5\n",
        "# Максимум: 5, минимум: 5\n",
        "\n",
        "# Введите первое число: 100\n",
        "# Введите второе число: -1\n",
        "# Максимум: 100, минимум:-1\n"
      ],
      "execution_count": null,
      "outputs": []
    },
    {
      "cell_type": "markdown",
      "metadata": {
        "id": "eETS9Q841oxz"
      },
      "source": [
        "# Задание 3"
      ]
    },
    {
      "cell_type": "code",
      "metadata": {
        "id": "g2vALhfS1raV"
      },
      "source": [
        "a = int(input('Введите ширину: '))\n",
        "b = int(input('Введите высоту: '))\n",
        "d = int(input('Введите диаметр головы: '))\n",
        "\n",
        "# Введенные числа должны быть положительными, если так - осуществляем\n",
        "# расчет, иначе выводим \"Проверьте ввод\"\n",
        "if (a-d)>1 and (b-d)>1:\n",
        "  print('Да')\n",
        "\n",
        "else:\n",
        "  print('Нет')\n",
        "\n",
        "# --------------\n",
        "# Пример вывода:\n",
        "#\n",
        "# Ширина форточки: 5\n",
        "# Высота форточки: 6\n",
        "# Диаметр головы: 6\n",
        "# Нет\n",
        "\n",
        "# Ширина форточки: 6\n",
        "# Высота форточки: 7\n",
        "# Диаметр головы: 4\n",
        "# Да\n"
      ],
      "execution_count": null,
      "outputs": []
    },
    {
      "cell_type": "markdown",
      "metadata": {
        "id": "8F08ZRG84sgh"
      },
      "source": [
        "# Задание №4"
      ]
    },
    {
      "cell_type": "code",
      "metadata": {
        "id": "JtcgMke94sHi"
      },
      "source": [
        "year_today = int(input('Введите текущий год: '))\n",
        "month_today = int(input('Введите текущий месяц: '))\n",
        "\n",
        "year = int(input('Введите год рождения: '))\n",
        "month = int(input('Введите месяц рожденя: '))\n",
        "\n",
        "age = month_today - month\n",
        "\n",
        "if month_today < month:\n",
        "  print(\"Число полных лет: \", age-1)\n",
        "else:\n",
        "  print(\"Число полных лет: \", age)\n",
        "# --------------\n",
        "# Пример вывода:\n",
        "#\n",
        "# Введите текущий год: 2017\n",
        "# Введите текущий месяц: 5\n",
        "# Введите год рождения: 2000\n",
        "# Введите месяц рождения: 1\n",
        "# Число полных лет:  17\n",
        "#\n",
        "# Введите текущий год: 2015\n",
        "# Введите текущий месяц: 6\n",
        "# Введите год рождения: 2010\n",
        "# Введите месяц рождения: 8\n",
        "# Число полных лет:  4\n",
        "#\n",
        "# Введите текущий год: 2020\n",
        "# Введите текущий месяц: 5\n",
        "# Введите год рождения: 2000\n",
        "# Введите месяц рождения: 5\n",
        "# Число полных лет:  20\n"
      ],
      "execution_count": null,
      "outputs": []
    },
    {
      "cell_type": "markdown",
      "metadata": {
        "id": "3T-TLmROIVOT"
      },
      "source": [
        "# Задание №5"
      ]
    },
    {
      "cell_type": "code",
      "metadata": {
        "id": "VLAp16syIXtp"
      },
      "source": [
        "x = int(input('Введите координату x: '))\n",
        "y = int(input('Введите координату у: '))\n",
        "\n",
        "if x>0 and y>0:\n",
        "  print(\"1-я четверть\")\n",
        "elif x<0 and y>0:\n",
        "  print(\"2-я четверть\")\n",
        "elif x<0 and y<0:\n",
        "  print(\"3-я четверть\")\n",
        "else:\n",
        "  print(\"4-я четверть\")\n",
        "# Удалите комментарий и допишите код\n",
        "\n",
        "# --------------\n",
        "# Пример вывода:\n",
        "#\n",
        "# Введите координату x: 5\n",
        "# Введите координату y: 7\n",
        "# 1-я четверть\n"
      ],
      "execution_count": null,
      "outputs": []
    },
    {
      "cell_type": "markdown",
      "metadata": {
        "id": "bCWe0oouJ6Ea"
      },
      "source": [
        "# Задание №6"
      ]
    },
    {
      "cell_type": "code",
      "metadata": {
        "id": "UHStV6kPKCDY"
      },
      "source": [
        "a = int(input())\n",
        "b = int(input())\n",
        "c = int(input())\n",
        "\n",
        "d = b**2 -4*a*c\n",
        "\n",
        "x1= (-b + d**(1/2))/2*a\n",
        "x2= (-b - d**(1/2))/2*a\n",
        "\n",
        "if d < 0:\n",
        "  print('Нет решения')\n",
        "\n",
        "elif d > 0:\n",
        "  print('x1 = ' + str(x1), 'x2 = ' + str(x2))\n",
        "\n",
        "else:\n",
        "  print('x = ' + str(x1))\n",
        "# --------------\n",
        "# Пример вывода:\n",
        "#\n",
        "# a = 1\n",
        "# b = 2\n",
        "# c = 3\n",
        "# Решений нет\n",
        "#\n",
        "# a = 1\n",
        "# b = 2\n",
        "# c = 1\n",
        "# x = -1.0\n",
        "#\n",
        "# a = 1\n",
        "# b = 3\n",
        "# c = -4\n",
        "# x1 = -4.0, x2 = 1.0\n"
      ],
      "execution_count": null,
      "outputs": []
    },
    {
      "cell_type": "markdown",
      "metadata": {
        "id": "Oq-kLhueMyqq"
      },
      "source": [
        "# Задание №7"
      ]
    },
    {
      "cell_type": "code",
      "metadata": {
        "id": "i2zyZKofkyXo",
        "colab": {
          "base_uri": "https://localhost:8080/"
        },
        "outputId": "79efa96c-14cd-4480-bd2a-efe95e45be77"
      },
      "source": [
        "nums_sum = 0  # сумма\n",
        "nums_count = 0  # количество\n",
        "x = int(input('Введите число : '))\n",
        " \n",
        "while x != 0:\n",
        "   nums_count += 1\n",
        "   nums_sum += x\n",
        "   x = int(input('Введите число : '))\n",
        " \n",
        "print('Сумма = ', nums_sum)\n",
        "print('Количество = ', nums_count)\n",
        " \n",
        "# Удалите комментарий и допишите код\n",
        " \n",
        "# --------------\n",
        "# Пример вывода:\n",
        "#\n",
        "# Введите 1-е число: 1\n",
        "# Введите 2-е число: 2\n",
        "# Введите 3-е число: 3\n",
        "# Введите 4-е число: 4\n",
        "# Введите 5-е число: 0\n",
        "# Сумма = 10\n",
        "# Количество = 4\n",
        "#\n",
        "# Введите 1-е число: 0\n",
        "# Сумма = 0\n",
        "# Количество = 0"
      ],
      "execution_count": null,
      "outputs": [
        {
          "output_type": "stream",
          "text": [
            "Введите число : 1\n",
            "Введите число : 2\n",
            "Введите число : 3\n",
            "Введите число : 4\n",
            "Введите число : 0\n",
            "Сумма =  10\n",
            "Количество =  4\n"
          ],
          "name": "stdout"
        }
      ]
    },
    {
      "cell_type": "markdown",
      "metadata": {
        "id": "yjtdkAwNN0YU"
      },
      "source": [
        "# Задание №8"
      ]
    },
    {
      "cell_type": "code",
      "metadata": {
        "id": "hCjHb2wckzF_"
      },
      "source": [
        "n = int(input('n= '))\n",
        "i = 0\n",
        "while i < n:\n",
        "  print (i)\n",
        "  i += 5\n",
        "# --------------\n",
        "# Пример вывода:\n",
        "#\n",
        "# n = 0\n",
        "# 0\n",
        "#\n",
        "# n = 10\n",
        "# 0\n",
        "# 5\n",
        "# 10\n",
        "#\n",
        "# n = 12\n",
        "# 0\n",
        "# 5\n",
        "# 10\n"
      ],
      "execution_count": null,
      "outputs": []
    },
    {
      "cell_type": "markdown",
      "metadata": {
        "id": "ZeT67r1uUaVj"
      },
      "source": [
        "# Задание №9"
      ]
    },
    {
      "cell_type": "code",
      "metadata": {
        "id": "DPFtKrRCkz1o"
      },
      "source": [
        "a = float(input())\n",
        "\n",
        "n = 0\n",
        "x_sum = 0.00\n",
        "\n",
        "while x_sum <= a:\n",
        "  n +=1\n",
        "  x_sum +=1/n\n",
        "\n",
        "print(n)\n",
        "\n",
        "# --------------\n",
        "# Пример вывода:\n",
        "#\n",
        "# a = 1.5\n",
        "# n = 3\n",
        "#\n",
        "# a = 2\n",
        "# n = 4\n"
      ],
      "execution_count": null,
      "outputs": []
    },
    {
      "cell_type": "markdown",
      "metadata": {
        "id": "yvDO3o0alTAk"
      },
      "source": [
        "# Задание №10"
      ]
    },
    {
      "cell_type": "code",
      "metadata": {
        "id": "oY2MHI7ElaCr"
      },
      "source": [
        "n = int(input('n = '))\n",
        "\n",
        "n_sum = 0\n",
        "n_count = 0\n",
        "\n",
        "while n % 10 != 0:\n",
        "  n_sum = n_sum + n % 10\n",
        "  n = int(n / 10)\n",
        "  n_count += n % 10\n",
        "\n",
        "print(n_sum)\n",
        "print(n_count)\n",
        "\n",
        "\n",
        "# Удалите комментарий и допишите код\n",
        "\n",
        "# --------------\n",
        "# Пример вывода:\n",
        "#\n",
        "# n = 12345\n",
        "# Сумма = 15\n",
        "# Количество = 5\n"
      ],
      "execution_count": null,
      "outputs": []
    },
    {
      "cell_type": "markdown",
      "metadata": {
        "id": "qfsdmzYun8VX"
      },
      "source": [
        "# Задание №16\n",
        "\n"
      ]
    },
    {
      "cell_type": "code",
      "metadata": {
        "id": "WSzsL3tRmzos"
      },
      "source": [
        "n = int(input('Количество районов = ')) \n",
        "a = []\n",
        "for i in range (n):\n",
        "  a.append(1)\n",
        "\n",
        "total = 0\n",
        "s_count = 0\n",
        "\n",
        "s = int(input(' Площадь района (га) = '))\n",
        "v = int(input('  Урожайность в районе (ц/га.) = ')) \n",
        "\n",
        "for i in a:\n",
        "  s_count += 1\n",
        "  total = total + (s*v)\n",
        "  if s_count < n:\n",
        "    s = int(input('Площадь района (га) = '))\n",
        "    v = int(input(' Урожайность в районе (ц/га.) = '))\n",
        "   \n",
        "print(round(total,1))\n",
        "\n",
        "# --------------\n",
        "# Пример вывода:\n",
        "#\n",
        "# Количество районов = 3\n",
        "# Площадь 1-го района (га) = 4\n",
        "# Урожайность в 1-м районе (ц/га.) = 2\n",
        "# Площадь 2-го района (га) = 7\n",
        "# Урожайность в 2-м районе (ц/га.) = 3\n",
        "# Площадь 3-го района (га) = 9\n",
        "# Урожайность в 3-м районе (ц/га.) = 4\n",
        "# Собрано пшеницы: 65.0 ц.\n"
      ],
      "execution_count": null,
      "outputs": []
    },
    {
      "cell_type": "markdown",
      "metadata": {
        "id": "2emD1QRNUr83"
      },
      "source": [
        "# Задание №17"
      ]
    },
    {
      "cell_type": "code",
      "metadata": {
        "colab": {
          "base_uri": "https://localhost:8080/"
        },
        "id": "7QAEMpA7l9dc",
        "outputId": "a698927a-7065-405b-e62d-de139d766622"
      },
      "source": [
        "nums_sum = 0  # сумма\n",
        "nums_count = 0  # количество\n",
        "x = int(input('Введите число : '))\n",
        " \n",
        "while True:\n",
        "   nums_count += 1\n",
        "   nums_sum += x\n",
        "   x = int(input('Введите число : '))\n",
        "   if x == 0:\n",
        "      break\n",
        "print('Сумма = ', nums_sum)\n",
        "print('Количество = ', nums_count)"
      ],
      "execution_count": null,
      "outputs": [
        {
          "output_type": "stream",
          "text": [
            "Введите число : 1\n",
            "Введите число : 2\n",
            "Введите число : 3\n",
            "Введите число : 4\n",
            "Введите число : 0\n",
            "Сумма =  10\n",
            "Количество =  4\n"
          ],
          "name": "stdout"
        }
      ]
    },
    {
      "cell_type": "markdown",
      "metadata": {
        "id": "NtPd1Mlsno_7"
      },
      "source": [
        "# Задание №18"
      ]
    },
    {
      "cell_type": "code",
      "metadata": {
        "colab": {
          "base_uri": "https://localhost:8080/"
        },
        "id": "fwf45WDyn8ma",
        "outputId": "dafdc580-053b-4ba1-c253-59af7cb35462"
      },
      "source": [
        "sentence = input('Введите предложение: ')\n",
        "\n",
        "count_gl = 0  # Кол-во гласных\n",
        "count_sogl = 0  # Кол-во согласных\n",
        "\n",
        "for i in sentence:\n",
        "    letter = i.lower()\n",
        "    if letter == \"а\" or letter == \"е\" or\\\n",
        "       letter == \"ё\" or letter == \"и\" or\\\n",
        "       letter == \"о\" or letter == \"у\" or\\\n",
        "       letter == \"ы\" or letter == \"э\" or\\\n",
        "       letter == \"ю\" or letter == \"я\":\n",
        "        count_gl += 1\n",
        "    else:\n",
        "        count_sogl += 1\n",
        "print('Кол-во букв в предложении: гласных - ' + str(count_gl) + ', согласных - ' + str(count_sogl))\n",
        "\n",
        "\n",
        "# --------------\n",
        "# Пример вывода:\n",
        "#\n",
        "# Введите предложение: Программирование\n",
        "# Кол-во букв в предложении: гласных - 7, согласных - 9\n"
      ],
      "execution_count": null,
      "outputs": [
        {
          "output_type": "stream",
          "text": [
            "Введите предложение: Программирование\n",
            "Кол-во букв в предложении: гласных - 7, согласных -9\n"
          ],
          "name": "stdout"
        }
      ]
    }
  ]
}